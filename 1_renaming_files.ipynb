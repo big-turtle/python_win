{
 "cells": [
  {
   "cell_type": "markdown",
   "metadata": {},
   "source": [
    "# Renaming Windows files using python\n",
    "Does your administrative clerk have COVID? Do you have persistent carpal tunnel syndrome in your 'computer-mouse hand'? Or do you simply do not have any of your precious, precious time to spare?\n",
    "\n",
    "Don't worry, we've got you covered with python. The following code will rename all files in a folder, as well as create an Excel sheet for tracking changes.\n",
    "\n",
    "Let's get started!"
   ]
  },
  {
   "cell_type": "code",
   "execution_count": 2,
   "metadata": {},
   "outputs": [
    {
     "name": "stdout",
     "output_type": "stream",
     "text": [
      "['1.JPG', '6S191_MIT_DeepLearning_L1.pdf', '6S191_MIT_DeepLearning_L2.pdf']\n"
     ]
    }
   ],
   "source": [
    "import os\n",
    "import pandas as pd\n",
    "\n",
    "# folder where the files are\n",
    "pathToFolder = 'C:/Users/big-turtle/Desktop/MIT_DL'\n",
    "files = os.listdir(pathToFolder)\n",
    "\n",
    "# check if the files are indeed there\n",
    "print(files)"
   ]
  },
  {
   "cell_type": "markdown",
   "metadata": {},
   "source": [
    "Now, we create a data frame for tracking changes. This is kind of optional, but if your administrative clerk is indeed sick and you're only able to get to this folder once a week, it'd be good to know if the files in it have been iterated over at some point."
   ]
  },
  {
   "cell_type": "code",
   "execution_count": 3,
   "metadata": {},
   "outputs": [
    {
     "data": {
      "text/html": [
       "<div>\n",
       "<style scoped>\n",
       "    .dataframe tbody tr th:only-of-type {\n",
       "        vertical-align: middle;\n",
       "    }\n",
       "\n",
       "    .dataframe tbody tr th {\n",
       "        vertical-align: top;\n",
       "    }\n",
       "\n",
       "    .dataframe thead th {\n",
       "        text-align: right;\n",
       "    }\n",
       "</style>\n",
       "<table border=\"1\" class=\"dataframe\">\n",
       "  <thead>\n",
       "    <tr style=\"text-align: right;\">\n",
       "      <th></th>\n",
       "      <th>name_before</th>\n",
       "    </tr>\n",
       "  </thead>\n",
       "  <tbody>\n",
       "    <tr>\n",
       "      <th>0</th>\n",
       "      <td>1.JPG</td>\n",
       "    </tr>\n",
       "    <tr>\n",
       "      <th>1</th>\n",
       "      <td>6S191_MIT_DeepLearning_L1.pdf</td>\n",
       "    </tr>\n",
       "    <tr>\n",
       "      <th>2</th>\n",
       "      <td>6S191_MIT_DeepLearning_L2.pdf</td>\n",
       "    </tr>\n",
       "  </tbody>\n",
       "</table>\n",
       "</div>"
      ],
      "text/plain": [
       "                     name_before\n",
       "0                          1.JPG\n",
       "1  6S191_MIT_DeepLearning_L1.pdf\n",
       "2  6S191_MIT_DeepLearning_L2.pdf"
      ]
     },
     "execution_count": 3,
     "metadata": {},
     "output_type": "execute_result"
    }
   ],
   "source": [
    "df = pd.DataFrame({'name_before': files})\n",
    "df"
   ]
  },
  {
   "cell_type": "markdown",
   "metadata": {},
   "source": [
    "This creates a new file name, based on the previous one and adds it to the data frame."
   ]
  },
  {
   "cell_type": "code",
   "execution_count": 4,
   "metadata": {},
   "outputs": [
    {
     "data": {
      "text/html": [
       "<div>\n",
       "<style scoped>\n",
       "    .dataframe tbody tr th:only-of-type {\n",
       "        vertical-align: middle;\n",
       "    }\n",
       "\n",
       "    .dataframe tbody tr th {\n",
       "        vertical-align: top;\n",
       "    }\n",
       "\n",
       "    .dataframe thead th {\n",
       "        text-align: right;\n",
       "    }\n",
       "</style>\n",
       "<table border=\"1\" class=\"dataframe\">\n",
       "  <thead>\n",
       "    <tr style=\"text-align: right;\">\n",
       "      <th></th>\n",
       "      <th>name_before</th>\n",
       "      <th>name_after</th>\n",
       "    </tr>\n",
       "  </thead>\n",
       "  <tbody>\n",
       "    <tr>\n",
       "      <th>0</th>\n",
       "      <td>1.JPG</td>\n",
       "      <td>abc_1.JPG</td>\n",
       "    </tr>\n",
       "    <tr>\n",
       "      <th>1</th>\n",
       "      <td>6S191_MIT_DeepLearning_L1.pdf</td>\n",
       "      <td>abc_6S191_MIT_DeepLearning_L1.pdf</td>\n",
       "    </tr>\n",
       "    <tr>\n",
       "      <th>2</th>\n",
       "      <td>6S191_MIT_DeepLearning_L2.pdf</td>\n",
       "      <td>abc_6S191_MIT_DeepLearning_L2.pdf</td>\n",
       "    </tr>\n",
       "  </tbody>\n",
       "</table>\n",
       "</div>"
      ],
      "text/plain": [
       "                     name_before                         name_after\n",
       "0                          1.JPG                          abc_1.JPG\n",
       "1  6S191_MIT_DeepLearning_L1.pdf  abc_6S191_MIT_DeepLearning_L1.pdf\n",
       "2  6S191_MIT_DeepLearning_L2.pdf  abc_6S191_MIT_DeepLearning_L2.pdf"
      ]
     },
     "execution_count": 4,
     "metadata": {},
     "output_type": "execute_result"
    }
   ],
   "source": [
    "prefix = 'abc_'\n",
    "df['name_after'] = prefix + df['name_before']\n",
    "df"
   ]
  },
  {
   "cell_type": "markdown",
   "metadata": {},
   "source": [
    "Now, we mark all of the files as not renamed."
   ]
  },
  {
   "cell_type": "code",
   "execution_count": 5,
   "metadata": {},
   "outputs": [
    {
     "data": {
      "text/html": [
       "<div>\n",
       "<style scoped>\n",
       "    .dataframe tbody tr th:only-of-type {\n",
       "        vertical-align: middle;\n",
       "    }\n",
       "\n",
       "    .dataframe tbody tr th {\n",
       "        vertical-align: top;\n",
       "    }\n",
       "\n",
       "    .dataframe thead th {\n",
       "        text-align: right;\n",
       "    }\n",
       "</style>\n",
       "<table border=\"1\" class=\"dataframe\">\n",
       "  <thead>\n",
       "    <tr style=\"text-align: right;\">\n",
       "      <th></th>\n",
       "      <th>name_before</th>\n",
       "      <th>name_after</th>\n",
       "      <th>rename_status</th>\n",
       "    </tr>\n",
       "  </thead>\n",
       "  <tbody>\n",
       "    <tr>\n",
       "      <th>0</th>\n",
       "      <td>1.JPG</td>\n",
       "      <td>abc_1.JPG</td>\n",
       "      <td>no</td>\n",
       "    </tr>\n",
       "    <tr>\n",
       "      <th>1</th>\n",
       "      <td>6S191_MIT_DeepLearning_L1.pdf</td>\n",
       "      <td>abc_6S191_MIT_DeepLearning_L1.pdf</td>\n",
       "      <td>no</td>\n",
       "    </tr>\n",
       "    <tr>\n",
       "      <th>2</th>\n",
       "      <td>6S191_MIT_DeepLearning_L2.pdf</td>\n",
       "      <td>abc_6S191_MIT_DeepLearning_L2.pdf</td>\n",
       "      <td>no</td>\n",
       "    </tr>\n",
       "  </tbody>\n",
       "</table>\n",
       "</div>"
      ],
      "text/plain": [
       "                     name_before                         name_after  \\\n",
       "0                          1.JPG                          abc_1.JPG   \n",
       "1  6S191_MIT_DeepLearning_L1.pdf  abc_6S191_MIT_DeepLearning_L1.pdf   \n",
       "2  6S191_MIT_DeepLearning_L2.pdf  abc_6S191_MIT_DeepLearning_L2.pdf   \n",
       "\n",
       "  rename_status  \n",
       "0            no  \n",
       "1            no  \n",
       "2            no  "
      ]
     },
     "execution_count": 5,
     "metadata": {},
     "output_type": "execute_result"
    }
   ],
   "source": [
    "df['rename_status'] = 'no'\n",
    "df"
   ]
  },
  {
   "cell_type": "markdown",
   "metadata": {},
   "source": [
    "Next lines of code check if the file has been added to the data frame and then renames it."
   ]
  },
  {
   "cell_type": "code",
   "execution_count": 6,
   "metadata": {},
   "outputs": [
    {
     "data": {
      "text/plain": [
       "['abc_1.JPG',\n",
       " 'abc_6S191_MIT_DeepLearning_L1.pdf',\n",
       " 'abc_6S191_MIT_DeepLearning_L2.pdf']"
      ]
     },
     "execution_count": 6,
     "metadata": {},
     "output_type": "execute_result"
    }
   ],
   "source": [
    "os.chdir(pathToFolder)\n",
    "\n",
    "for n in range(len(files)):\n",
    "    if files[n] == df['name_before'][n]:\n",
    "        os.rename(files[n], df['name_after'][n])\n",
    "    else:\n",
    "        print(\"No files to rename :(\")\n",
    "        \n",
    "filesRenamed = os.listdir(pathToFolder)\n",
    "filesRenamed"
   ]
  },
  {
   "cell_type": "code",
   "execution_count": 7,
   "metadata": {},
   "outputs": [
    {
     "data": {
      "text/html": [
       "<div>\n",
       "<style scoped>\n",
       "    .dataframe tbody tr th:only-of-type {\n",
       "        vertical-align: middle;\n",
       "    }\n",
       "\n",
       "    .dataframe tbody tr th {\n",
       "        vertical-align: top;\n",
       "    }\n",
       "\n",
       "    .dataframe thead th {\n",
       "        text-align: right;\n",
       "    }\n",
       "</style>\n",
       "<table border=\"1\" class=\"dataframe\">\n",
       "  <thead>\n",
       "    <tr style=\"text-align: right;\">\n",
       "      <th></th>\n",
       "      <th>name_before</th>\n",
       "      <th>name_after</th>\n",
       "      <th>rename_status</th>\n",
       "    </tr>\n",
       "  </thead>\n",
       "  <tbody>\n",
       "    <tr>\n",
       "      <th>0</th>\n",
       "      <td>1.JPG</td>\n",
       "      <td>abc_1.JPG</td>\n",
       "      <td>yes</td>\n",
       "    </tr>\n",
       "    <tr>\n",
       "      <th>1</th>\n",
       "      <td>6S191_MIT_DeepLearning_L1.pdf</td>\n",
       "      <td>abc_6S191_MIT_DeepLearning_L1.pdf</td>\n",
       "      <td>yes</td>\n",
       "    </tr>\n",
       "    <tr>\n",
       "      <th>2</th>\n",
       "      <td>6S191_MIT_DeepLearning_L2.pdf</td>\n",
       "      <td>abc_6S191_MIT_DeepLearning_L2.pdf</td>\n",
       "      <td>yes</td>\n",
       "    </tr>\n",
       "  </tbody>\n",
       "</table>\n",
       "</div>"
      ],
      "text/plain": [
       "                     name_before                         name_after  \\\n",
       "0                          1.JPG                          abc_1.JPG   \n",
       "1  6S191_MIT_DeepLearning_L1.pdf  abc_6S191_MIT_DeepLearning_L1.pdf   \n",
       "2  6S191_MIT_DeepLearning_L2.pdf  abc_6S191_MIT_DeepLearning_L2.pdf   \n",
       "\n",
       "  rename_status  \n",
       "0           yes  \n",
       "1           yes  \n",
       "2           yes  "
      ]
     },
     "execution_count": 7,
     "metadata": {},
     "output_type": "execute_result"
    }
   ],
   "source": [
    "# changes renamed status to 'yes' if the file name corresponds to 'name_after'\n",
    "for n in range(len(filesRenamed)):\n",
    "    if filesRenamed[n] == df['name_after'][n]:\n",
    "        df['rename_status'][n] = 'yes'\n",
    "\n",
    "df"
   ]
  },
  {
   "cell_type": "markdown",
   "metadata": {},
   "source": [
    "Lastly, we'll want to write the data frame out to a neat Excel file that's easy on the eyes. This file will be created in the same folder where all of our other files are located."
   ]
  },
  {
   "cell_type": "code",
   "execution_count": 8,
   "metadata": {},
   "outputs": [],
   "source": [
    "with pd.ExcelWriter('MyFiles.xlsx') as writer:  \n",
    "    df.to_excel(writer, sheet_name='Sheet_name_1')"
   ]
  },
  {
   "cell_type": "markdown",
   "metadata": {},
   "source": [
    "Great! Tune in next week when we try to find out how to track changes made to a folder and append rows to our Excel master file."
   ]
  }
 ],
 "metadata": {
  "kernelspec": {
   "display_name": "Python 3",
   "language": "python",
   "name": "python3"
  },
  "language_info": {
   "codemirror_mode": {
    "name": "ipython",
    "version": 3
   },
   "file_extension": ".py",
   "mimetype": "text/x-python",
   "name": "python",
   "nbconvert_exporter": "python",
   "pygments_lexer": "ipython3",
   "version": "3.7.6"
  }
 },
 "nbformat": 4,
 "nbformat_minor": 4
}
